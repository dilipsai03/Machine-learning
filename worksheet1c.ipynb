{
  "nbformat": 4,
  "nbformat_minor": 0,
  "metadata": {
    "colab": {
      "name": "worksheet1c.ipynb",
      "provenance": [],
      "collapsed_sections": []
    },
    "kernelspec": {
      "name": "python3",
      "display_name": "Python 3"
    },
    "language_info": {
      "name": "python"
    }
  },
  "cells": [
    {
      "cell_type": "code",
      "source": [
        "n=int(input(\"enter the number\"))\n",
        "c=n\n",
        "s1=\"I CAN\"\n",
        "s2=\"I WILL\"\n",
        "for i in range(n):\n",
        "  print(s1)\n",
        "  c=c-1\n",
        "  if(c==0):\n",
        "    break\n",
        "  else:\n",
        "    print(s2)\n",
        "  c=c-1\n",
        "  if(c==0):\n",
        "     break\n",
        "  else: continue   \n"
      ],
      "metadata": {
        "colab": {
          "base_uri": "https://localhost:8080/"
        },
        "id": "4GxJA-CRsTDp",
        "outputId": "0103f94c-e8f8-46ac-ec2b-08e076a6e8ac"
      },
      "execution_count": 84,
      "outputs": [
        {
          "output_type": "stream",
          "name": "stdout",
          "text": [
            "enter the number5\n",
            "I CAN\n",
            "I WILL\n",
            "I CAN\n",
            "I WILL\n",
            "I CAN\n"
          ]
        }
      ]
    },
    {
      "cell_type": "code",
      "source": [
        ""
      ],
      "metadata": {
        "colab": {
          "base_uri": "https://localhost:8080/"
        },
        "id": "rmug1CesvJMO",
        "outputId": "a05f2426-9fbc-46a0-978e-cb43946013f2"
      },
      "execution_count": 71,
      "outputs": [
        {
          "output_type": "stream",
          "name": "stdout",
          "text": [
            "9\n"
          ]
        }
      ]
    },
    {
      "cell_type": "code",
      "source": [
        ""
      ],
      "metadata": {
        "id": "keHNQ6tAvfdp"
      },
      "execution_count": null,
      "outputs": []
    }
  ]
}