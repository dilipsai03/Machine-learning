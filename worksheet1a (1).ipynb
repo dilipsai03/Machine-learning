{
  "nbformat": 4,
  "nbformat_minor": 0,
  "metadata": {
    "colab": {
      "name": "worksheet1a.ipynb",
      "provenance": [],
      "collapsed_sections": []
    },
    "kernelspec": {
      "name": "python3",
      "display_name": "Python 3"
    },
    "language_info": {
      "name": "python"
    }
  },
  "cells": [
    {
      "cell_type": "code",
      "metadata": {
        "id": "fvdf-J5ZuGlY"
      },
      "source": [
        "#WORKSHEET -1 ANSWERS"
      ],
      "execution_count": null,
      "outputs": []
    },
    {
      "cell_type": "code",
      "metadata": {
        "id": "0KK3z6Q4ux9k"
      },
      "source": [
        "#1. PROGRAM TO FIND THE FACTORIAL OF ANY GIVEN NUMBER AS AN ARGUMENT"
      ],
      "execution_count": null,
      "outputs": []
    },
    {
      "cell_type": "code",
      "metadata": {
        "id": "ZQAHaNwlu7sX"
      },
      "source": [
        "def factorial(n):\n",
        "  fact =1\n",
        "  for i in range(1,n+1):\n",
        "    fact=fact*i\n",
        "  print(\"the factorial of the number is {}\".format(fact))\n",
        "\n"
      ],
      "execution_count": null,
      "outputs": []
    },
    {
      "cell_type": "code",
      "metadata": {
        "colab": {
          "base_uri": "https://localhost:8080/"
        },
        "id": "_lpD4OHQZvK5",
        "outputId": "74ed6800-a07b-4d17-c1a3-f9ca52233aa4"
      },
      "source": [
        "n=int(input(\"enter the number\"))\n",
        "factorial(n)    \n",
        "\n"
      ],
      "execution_count": null,
      "outputs": [
        {
          "output_type": "stream",
          "name": "stdout",
          "text": [
            "enter the number5\n",
            "the factorial of the number is 120\n"
          ]
        }
      ]
    },
    {
      "cell_type": "code",
      "metadata": {
        "id": "mMvRksn3Z74S"
      },
      "source": [
        "#LUKE AND HIS RELATIONS"
      ],
      "execution_count": null,
      "outputs": []
    },
    {
      "cell_type": "code",
      "metadata": {
        "colab": {
          "base_uri": "https://localhost:8080/"
        },
        "id": "aY2bmUFQ-nla",
        "outputId": "dce5b7e5-a1a5-4656-9bbe-b45e467893ce"
      },
      "source": [
        "print(\"1.Darth Vader\\n2.Leia\\n3.Han\\n4.R2D2\")\n",
        "ch=int(input(\"enter the choice\"))\n",
        "if(ch==1):\n",
        "  print(\"Luke,I am your father\")\n",
        "elif(ch==2):\n",
        "    print(\"Luke, I am yor sister\")\n",
        "elif(ch==3):\n",
        "     print(\"Luke, I am yor brother in law\")\n",
        "elif(ch==4):\n",
        "      print(\"Luke,I am your droid\")\n",
        "else: print(\"Invalid entry\")    "
      ],
      "execution_count": null,
      "outputs": [
        {
          "output_type": "stream",
          "name": "stdout",
          "text": [
            "1.Darth Vader\n",
            "2.Leia\n",
            "3.Han\n",
            "4.R2D2\n",
            "enter the choice2\n",
            "Luke, I am yor sister\n"
          ]
        }
      ]
    },
    {
      "cell_type": "code",
      "metadata": {
        "id": "7lh6nam1_G8G"
      },
      "source": [
        "#PROGRAM 3"
      ],
      "execution_count": null,
      "outputs": []
    },
    {
      "cell_type": "code",
      "metadata": {
        "colab": {
          "base_uri": "https://localhost:8080/"
        },
        "id": "4DqdJBDLCdmg",
        "outputId": "c66ce68d-c62c-46b2-a47a-f7ba97e1b8b1"
      },
      "source": [
        "def number(n):\n",
        "  c=0\n",
        "  while(n!=0):\n",
        "     n=n//10\n",
        "     c=c+1\n",
        "  print(\"the no of digits is {}\".format(c))\n",
        "n=int((input(\"enter any number\")))\n",
        "number(n)    \n",
        "\n",
        "  \n",
        "\n"
      ],
      "execution_count": null,
      "outputs": [
        {
          "output_type": "stream",
          "name": "stdout",
          "text": [
            "enter any number55\n",
            "the no of digits is 2\n"
          ]
        }
      ]
    }
  ]
}