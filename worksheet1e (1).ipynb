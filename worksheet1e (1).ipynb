{
  "nbformat": 4,
  "nbformat_minor": 0,
  "metadata": {
    "colab": {
      "name": "worksheet1e.ipynb",
      "provenance": [],
      "collapsed_sections": []
    },
    "kernelspec": {
      "name": "python3",
      "display_name": "Python 3"
    },
    "language_info": {
      "name": "python"
    }
  },
  "cells": [
    {
      "cell_type": "code",
      "execution_count": null,
      "metadata": {
        "id": "TXLjcjMDsi2U"
      },
      "outputs": [],
      "source": [
        "#PROGRAM - 10"
      ]
    },
    {
      "cell_type": "code",
      "source": [
        "p={\"sell_price\":45.00,\"cost_price\":32.67,\"inventory\":1200}\n",
        "profit=(p[\"sell_price\"]-p[\"cost_price\"])*p[\"inventory\"]\n",
        "print(\"The total profit earned is {}\".format(round(profit)))\n"
      ],
      "metadata": {
        "colab": {
          "base_uri": "https://localhost:8080/"
        },
        "id": "NXh2O_xGzmnR",
        "outputId": "a16d5808-c9b1-4e94-c383-9494115b4556"
      },
      "execution_count": 15,
      "outputs": [
        {
          "output_type": "stream",
          "name": "stdout",
          "text": [
            "The total profit earned is 14796\n"
          ]
        }
      ]
    },
    {
      "cell_type": "code",
      "source": [
        ""
      ],
      "metadata": {
        "colab": {
          "base_uri": "https://localhost:8080/"
        },
        "id": "aHOpwfrR0daJ",
        "outputId": "43822a01-529b-49c0-a03f-ca2965c53ef5"
      },
      "execution_count": 6,
      "outputs": [
        {
          "output_type": "execute_result",
          "data": {
            "text/plain": [
              "3"
            ]
          },
          "metadata": {},
          "execution_count": 6
        }
      ]
    },
    {
      "cell_type": "code",
      "source": [
        ""
      ],
      "metadata": {
        "id": "-ICl-WSg2KHA"
      },
      "execution_count": null,
      "outputs": []
    }
  ]
}