{
  "nbformat": 4,
  "nbformat_minor": 0,
  "metadata": {
    "colab": {
      "name": "worksheet1d.ipynb",
      "provenance": []
    },
    "kernelspec": {
      "name": "python3",
      "display_name": "Python 3"
    },
    "language_info": {
      "name": "python"
    }
  },
  "cells": [
    {
      "cell_type": "code",
      "metadata": {
        "id": "WzWQlLrz1-WF"
      },
      "source": [
        "#FACTORIAL PROGRAM"
      ],
      "execution_count": 48,
      "outputs": []
    },
    {
      "cell_type": "code",
      "source": [
        "def facto():\n",
        "  n=int(input(\"enter the number\"))\n",
        "  fact=1\n",
        "  m=0\n",
        "  for i in range(n,0,-1):\n",
        "    m=fact\n",
        "    while(i>=1):\n",
        "      \n",
        "      fact=fact*i\n",
        "      i=i-1\n",
        "  print(m)    "
      ],
      "metadata": {
        "id": "uZhe3sJGUHhS"
      },
      "execution_count": 54,
      "outputs": []
    },
    {
      "cell_type": "code",
      "source": [
        "facto()"
      ],
      "metadata": {
        "colab": {
          "base_uri": "https://localhost:8080/"
        },
        "id": "aCWEXzk_Ujp6",
        "outputId": "ccaeeded-2a6b-4677-a6b9-74a7874b30cc"
      },
      "execution_count": 55,
      "outputs": [
        {
          "output_type": "stream",
          "name": "stdout",
          "text": [
            "enter the number5\n",
            "34560\n"
          ]
        }
      ]
    },
    {
      "cell_type": "code",
      "source": [
        ""
      ],
      "metadata": {
        "id": "PZ3Kf27BURY6"
      },
      "execution_count": null,
      "outputs": []
    }
  ]
}