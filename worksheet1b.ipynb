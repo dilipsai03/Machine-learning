{
  "nbformat": 4,
  "nbformat_minor": 0,
  "metadata": {
    "colab": {
      "name": "worksheet1b.ipynb",
      "provenance": [],
      "collapsed_sections": []
    },
    "kernelspec": {
      "name": "python3",
      "display_name": "Python 3"
    },
    "language_info": {
      "name": "python"
    }
  },
  "cells": [
    {
      "cell_type": "code",
      "metadata": {
        "id": "oYV_h8BFVdN5"
      },
      "source": [
        "#PROGRAM - 6"
      ],
      "execution_count": null,
      "outputs": []
    },
    {
      "cell_type": "code",
      "metadata": {
        "id": "5cAO8bfzfR66"
      },
      "source": [
        "def operations(a,b,ch):\n",
        "  if(ch=='+'):\n",
        "    return (a+b)\n",
        "  elif(ch=='-'):\n",
        "    return(a-b)\n",
        "  elif(ch=='/'):\n",
        "    return(a/b)\n",
        "  elif(ch=='*'):\n",
        "    return(a*b)\n",
        "  else:print(\"invalid input\")\n",
        " "
      ],
      "execution_count": null,
      "outputs": []
    },
    {
      "cell_type": "code",
      "metadata": {
        "colab": {
          "base_uri": "https://localhost:8080/"
        },
        "id": "WAObju2If8Ux",
        "outputId": "43401e30-fd7e-4fc6-99d0-c29a798d6969"
      },
      "source": [
        "a=int(input(\"enter 'a' value\"))\n",
        "b=int(input(\"enter 'b' value\"))\n",
        "ch=str(input(\"enter the operation\"))\n",
        "x=operations(a,b,ch)\n",
        "print(\"the value for the operation {} is {}\".format(ch,x))"
      ],
      "execution_count": null,
      "outputs": [
        {
          "output_type": "stream",
          "name": "stdout",
          "text": [
            "enter 'a' value2\n",
            "enter 'b' value3\n",
            "enter the operation+\n",
            "the value for the operation + is 5\n"
          ]
        }
      ]
    }
  ]
}